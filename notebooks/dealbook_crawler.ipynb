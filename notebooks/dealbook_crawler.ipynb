{
 "cells": [
  {
   "cell_type": "code",
   "execution_count": 2,
   "metadata": {},
   "outputs": [],
   "source": [
    "# imports\n",
    "import requests\n",
    "import pandas as pd\n",
    "from bs4 import BeautifulSoup"
   ]
  },
  {
   "cell_type": "code",
   "execution_count": 35,
   "metadata": {},
   "outputs": [],
   "source": [
    "# crawl dealbok companies page\n",
    "url = 'https://dealbook.co/companies'\n",
    "\n",
    "# get table data\n",
    "r = requests.get(url)\n",
    "html = r.text\n",
    "\n",
    "# parse html\n",
    "soup = BeautifulSoup(html, 'html.parser')"
   ]
  },
  {
   "cell_type": "code",
   "execution_count": 34,
   "metadata": {},
   "outputs": [],
   "source": [
    "# find number of pages\n",
    "pages = soup.find('ul', attrs={'class':'pagination'})\n",
    "\n",
    "# find \"Last page\" link\n",
    "last_page = pages.find_all('li')[-1].find('a')['href']\n",
    "\n",
    "# get last page number\n",
    "last_page_num = int(last_page.split('=')[-1])\n"
   ]
  },
  {
   "cell_type": "code",
   "execution_count": 54,
   "metadata": {},
   "outputs": [],
   "source": [
    "# get all company from current page\n",
    "def get_companies(soup):\n",
    "    # get table\n",
    "    table = soup.find('table', attrs={'class':'table table-hover'})\n",
    "    # get table rows\n",
    "    rows = table.find_all('tr')\n",
    "    \n",
    "    # get table data and append headers\n",
    "    data = []\n",
    "    for row in rows[1:]:\n",
    "        cols = row.find_all('td')\n",
    "        cols = [ele.text.strip() for ele in cols]\n",
    "        data.append([ele for ele in cols])\n",
    "\n",
    "    return data"
   ]
  },
  {
   "cell_type": "code",
   "execution_count": 70,
   "metadata": {},
   "outputs": [
    {
     "name": "stdout",
     "output_type": "stream",
     "text": [
      "page 1 done\n",
      "page 2 done\n",
      "page 3 done\n",
      "page 4 done\n"
     ]
    }
   ],
   "source": [
    "# get all companies from all pages\n",
    "# for page in range(1, last_page_num + 1):\n",
    "companies = []\n",
    "for page in range(1, 5):\n",
    "    # get url\n",
    "    url = 'https://dealbook.co/companies?page=' + str(page)\n",
    "    # get table data\n",
    "    r = requests.get(url)\n",
    "    html = r.text\n",
    "    soup = BeautifulSoup(html, 'html.parser')\n",
    "    data = get_companies(soup)\n",
    "    \n",
    "    # append data\n",
    "    companies.extend(data)\n",
    "    print('page ' + str(page) + ' done')"
   ]
  },
  {
   "cell_type": "code",
   "execution_count": 71,
   "metadata": {},
   "outputs": [],
   "source": [
    "# remove first and last list item for each row\n",
    "for row in companies:\n",
    "    row.pop(0)\n",
    "    row.pop(-1)\n"
   ]
  },
  {
   "cell_type": "code",
   "execution_count": 72,
   "metadata": {},
   "outputs": [],
   "source": [
    "# create dataframe\n",
    "columns = ['Company', 'Status', 'Location', 'Deals', 'Total Raised']\n",
    "df = pd.DataFrame(companies, columns=columns)"
   ]
  },
  {
   "cell_type": "code",
   "execution_count": 77,
   "metadata": {},
   "outputs": [],
   "source": [
    "# save to csv\n",
    "df.to_csv('../data/01_raw/dealbook_companies.csv', index=False, sep=';')"
   ]
  }
 ],
 "metadata": {
  "kernelspec": {
   "display_name": ".venv",
   "language": "python",
   "name": "python3"
  },
  "language_info": {
   "codemirror_mode": {
    "name": "ipython",
    "version": 3
   },
   "file_extension": ".py",
   "mimetype": "text/x-python",
   "name": "python",
   "nbconvert_exporter": "python",
   "pygments_lexer": "ipython3",
   "version": "3.10.8"
  },
  "orig_nbformat": 4
 },
 "nbformat": 4,
 "nbformat_minor": 2
}
